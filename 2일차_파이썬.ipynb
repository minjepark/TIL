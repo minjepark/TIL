{
  "nbformat": 4,
  "nbformat_minor": 0,
  "metadata": {
    "colab": {
      "name": "2일차 파이썬.ipynb",
      "provenance": [],
      "authorship_tag": "ABX9TyP/DjT4yV8qXN/SmgglMXgI",
      "include_colab_link": true
    },
    "kernelspec": {
      "name": "python3",
      "display_name": "Python 3"
    },
    "language_info": {
      "name": "python"
    }
  },
  "cells": [
    {
      "cell_type": "markdown",
      "metadata": {
        "id": "view-in-github",
        "colab_type": "text"
      },
      "source": [
        "<a href=\"https://colab.research.google.com/github/minjepark/TIL/blob/main/2%EC%9D%BC%EC%B0%A8_%ED%8C%8C%EC%9D%B4%EC%8D%AC.ipynb\" target=\"_parent\"><img src=\"https://colab.research.google.com/assets/colab-badge.svg\" alt=\"Open In Colab\"/></a>"
      ]
    },
    {
      "cell_type": "code",
      "source": [
        "삼성전자 = 50000\n",
        "총평가금액 = 삼성전자 * 10\n",
        "print(총평가금액)"
      ],
      "metadata": {
        "colab": {
          "base_uri": "https://localhost:8080/"
        },
        "id": "3pbXDZGJuR_R",
        "outputId": "3c157094-035f-4d84-c90e-f3d1fab161f7"
      },
      "execution_count": 4,
      "outputs": [
        {
          "output_type": "stream",
          "name": "stdout",
          "text": [
            "500000\n"
          ]
        }
      ]
    },
    {
      "cell_type": "code",
      "execution_count": 9,
      "metadata": {
        "colab": {
          "base_uri": "https://localhost:8080/"
        },
        "id": "JajMsWnPuMcf",
        "outputId": "3c793985-3efb-48c1-cefa-14553f815594"
      },
      "outputs": [
        {
          "output_type": "stream",
          "name": "stdout",
          "text": [
            "2980000000000\n",
            "50000\n",
            "15.79\n"
          ]
        }
      ],
      "source": [
        "#12\n",
        "시가총액 = 2980000000000\n",
        "현재가 = 50000\n",
        "PER = 15.79\n",
        "print(시가총액)\n",
        "print(현재가)\n",
        "print(PER)"
      ]
    },
    {
      "cell_type": "code",
      "source": [
        "#13\n",
        "s = 'hello'\n",
        "t = 'python'\n",
        "print(s+'!', t)"
      ],
      "metadata": {
        "colab": {
          "base_uri": "https://localhost:8080/"
        },
        "id": "xszrLh3Bu3iz",
        "outputId": "f6a9b13d-edb5-447c-d82b-15db05517c7d"
      },
      "execution_count": 14,
      "outputs": [
        {
          "output_type": "stream",
          "name": "stdout",
          "text": [
            "hello! python\n"
          ]
        }
      ]
    },
    {
      "cell_type": "code",
      "source": [
        "#14 \n",
        "2+2*3"
      ],
      "metadata": {
        "colab": {
          "base_uri": "https://localhost:8080/"
        },
        "id": "B123ryLrwUUn",
        "outputId": "16c0c333-e64b-4326-c16b-1c9ab2ca186c"
      },
      "execution_count": 17,
      "outputs": [
        {
          "output_type": "execute_result",
          "data": {
            "text/plain": [
              "8"
            ]
          },
          "metadata": {},
          "execution_count": 17
        }
      ]
    },
    {
      "cell_type": "code",
      "source": [
        "#15\n",
        "a = 128\n",
        "type(a)"
      ],
      "metadata": {
        "colab": {
          "base_uri": "https://localhost:8080/"
        },
        "id": "LxRZtUWzwr1L",
        "outputId": "77e3a8ab-c342-4af3-858e-c40d968ca000"
      },
      "execution_count": 18,
      "outputs": [
        {
          "output_type": "execute_result",
          "data": {
            "text/plain": [
              "int"
            ]
          },
          "metadata": {},
          "execution_count": 18
        }
      ]
    },
    {
      "cell_type": "code",
      "source": [
        "#16\n",
        "num_str ='720'\n",
        "int_num = int(num_str)\n",
        "print(int_num)\n",
        "print(type(int_num))"
      ],
      "metadata": {
        "colab": {
          "base_uri": "https://localhost:8080/"
        },
        "id": "g5n4Fb7ww1Bd",
        "outputId": "427029fe-e4ab-4097-8c4c-e42c9ab70f32"
      },
      "execution_count": 21,
      "outputs": [
        {
          "output_type": "stream",
          "name": "stdout",
          "text": [
            "720\n",
            "<class 'int'>\n"
          ]
        }
      ]
    },
    {
      "cell_type": "code",
      "source": [
        "#17\n",
        "num = 100\n",
        "str_num = str(num)\n",
        "print(str_num);print(type(str_num))"
      ],
      "metadata": {
        "colab": {
          "base_uri": "https://localhost:8080/"
        },
        "id": "DXhOC1eAxNP_",
        "outputId": "4873d96d-a690-43dc-e769-a9c1c0c7eee0"
      },
      "execution_count": 25,
      "outputs": [
        {
          "output_type": "stream",
          "name": "stdout",
          "text": [
            "100\n",
            "<class 'str'>\n"
          ]
        }
      ]
    },
    {
      "cell_type": "code",
      "source": [
        "#18\n",
        "str_num = '15.79'\n",
        "float_num = float(str_num)\n",
        "print(float_num);print(type(float_num))\n"
      ],
      "metadata": {
        "colab": {
          "base_uri": "https://localhost:8080/"
        },
        "id": "zszaMI_xxkVt",
        "outputId": "63284ca8-1c64-49c0-e315-71fbb708541d"
      },
      "execution_count": 27,
      "outputs": [
        {
          "output_type": "stream",
          "name": "stdout",
          "text": [
            "15.79\n",
            "<class 'float'>\n"
          ]
        }
      ]
    },
    {
      "cell_type": "code",
      "source": [
        "#19\n",
        "\n",
        "year ='2020'\n",
        "int_year = int(year)\n",
        "print(int_year-1);print(int_year-2);print(int_year-3)"
      ],
      "metadata": {
        "colab": {
          "base_uri": "https://localhost:8080/"
        },
        "id": "c_4ELX_Hx9wg",
        "outputId": "5ae5e300-3a06-4804-d4c7-0fb65a15a171"
      },
      "execution_count": 30,
      "outputs": [
        {
          "output_type": "stream",
          "name": "stdout",
          "text": [
            "2019\n",
            "2018\n",
            "2017\n"
          ]
        }
      ]
    },
    {
      "cell_type": "code",
      "source": [
        "#20\n",
        "aircon = 48584\n",
        "total = aircon*26\n",
        "print(total)"
      ],
      "metadata": {
        "colab": {
          "base_uri": "https://localhost:8080/"
        },
        "id": "qIre1FgIyb2W",
        "outputId": "af6984dd-77f4-4602-e562-190565d4ffad"
      },
      "execution_count": 31,
      "outputs": [
        {
          "output_type": "stream",
          "name": "stdout",
          "text": [
            "1263184\n"
          ]
        }
      ]
    },
    {
      "cell_type": "code",
      "source": [
        "#오늘의 학습\n",
        "#1. sep 구분자 사용 = print(''), sep='/'\n",
        "\n",
        "#2. 한 줄에 명령어 여러개 사용하고 싶으면 ;(세미콜론 사용) = print('qnffkqmfk') ;print('qmffkqmffk')\n",
        "\n",
        "#3. 문자를 한 번에 붙이고 싶다면 print('djWjrh', end='');print('dkssudgktpdy')\n",
        "\n",
        "#4. print(변수 + '', 변수) = print(,는 진짜 쉼표로 출력이 된다. )"
      ],
      "metadata": {
        "id": "MRmRneBmvB1v"
      },
      "execution_count": null,
      "outputs": []
    },
    {
      "cell_type": "code",
      "source": [
        ""
      ],
      "metadata": {
        "id": "th3NIwZmwq7A"
      },
      "execution_count": null,
      "outputs": []
    }
  ]
}
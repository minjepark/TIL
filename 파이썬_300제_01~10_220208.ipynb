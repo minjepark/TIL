{
  "nbformat": 4,
  "nbformat_minor": 0,
  "metadata": {
    "colab": {
      "name": "파이썬 300제_01~10_220208.ipynb",
      "provenance": [],
      "authorship_tag": "ABX9TyNIsNEx8EiUm/2S+Z3k6RA1",
      "include_colab_link": true
    },
    "kernelspec": {
      "name": "python3",
      "display_name": "Python 3"
    },
    "language_info": {
      "name": "python"
    }
  },
  "cells": [
    {
      "cell_type": "markdown",
      "metadata": {
        "id": "view-in-github",
        "colab_type": "text"
      },
      "source": [
        "<a href=\"https://colab.research.google.com/github/minjepark/TIL/blob/main/%ED%8C%8C%EC%9D%B4%EC%8D%AC_300%EC%A0%9C_01~10_220208.ipynb\" target=\"_parent\"><img src=\"https://colab.research.google.com/assets/colab-badge.svg\" alt=\"Open In Colab\"/></a>"
      ]
    },
    {
      "cell_type": "code",
      "execution_count": 1,
      "metadata": {
        "colab": {
          "base_uri": "https://localhost:8080/"
        },
        "id": "_Ha8VofqN6UU",
        "outputId": "1269bc3c-d498-4055-ebb1-91444ee6b824"
      },
      "outputs": [
        {
          "output_type": "stream",
          "name": "stdout",
          "text": [
            "Hello World\n"
          ]
        }
      ],
      "source": [
        "#001\n",
        "print('Hello World')"
      ]
    },
    {
      "cell_type": "code",
      "source": [
        "#002\n",
        "print(\"Mary's cosmetics\")"
      ],
      "metadata": {
        "colab": {
          "base_uri": "https://localhost:8080/"
        },
        "id": "amgHXSWyOQHO",
        "outputId": "e4ff3630-dfb7-4812-87f8-e01968dc28c3"
      },
      "execution_count": 2,
      "outputs": [
        {
          "output_type": "stream",
          "name": "stdout",
          "text": [
            "Mary's cosmetics\n"
          ]
        }
      ]
    },
    {
      "cell_type": "code",
      "source": [
        "#003\n",
        "print('신씨가 소리질렸다. \"도둑이야\".')"
      ],
      "metadata": {
        "colab": {
          "base_uri": "https://localhost:8080/"
        },
        "id": "yztodFoEOXJj",
        "outputId": "e329d010-719b-46ed-9807-1b7628f1c047"
      },
      "execution_count": 3,
      "outputs": [
        {
          "output_type": "stream",
          "name": "stdout",
          "text": [
            "신씨가 소리질렸다. \"도둑이야\".\n"
          ]
        }
      ]
    },
    {
      "cell_type": "code",
      "source": [
        "#004\n",
        "print('\"C:＼Windows\"')"
      ],
      "metadata": {
        "colab": {
          "base_uri": "https://localhost:8080/"
        },
        "id": "VrfwOO-WOefD",
        "outputId": "8b887948-6408-43cc-81d8-cab137c4cdef"
      },
      "execution_count": 8,
      "outputs": [
        {
          "output_type": "stream",
          "name": "stdout",
          "text": [
            "\"C:＼Windows\"\n"
          ]
        }
      ]
    },
    {
      "cell_type": "code",
      "source": [
        "#005\n",
        "print(\"안녕하세요.n＼만나서＼t＼t반갑습니다.\")\n",
        "#n＼는 줄바꿈, t＼ 띄어쓰기"
      ],
      "metadata": {
        "colab": {
          "base_uri": "https://localhost:8080/"
        },
        "id": "qM95uYkkO-Aw",
        "outputId": "97de2b1c-1825-4f8e-9e2d-e79d3f8a47ce"
      },
      "execution_count": 10,
      "outputs": [
        {
          "output_type": "stream",
          "name": "stdout",
          "text": [
            "안녕하세요.n＼만나서＼t＼t반갑습니다.\n"
          ]
        }
      ]
    },
    {
      "cell_type": "code",
      "source": [
        "#006\n",
        "print(\"오늘은\",\"일요일\")"
      ],
      "metadata": {
        "colab": {
          "base_uri": "https://localhost:8080/"
        },
        "id": "MLOdggrzPLLy",
        "outputId": "4ccc39c3-836c-4b1a-9223-cba7be707545"
      },
      "execution_count": 11,
      "outputs": [
        {
          "output_type": "stream",
          "name": "stdout",
          "text": [
            "오늘은 일요일\n"
          ]
        }
      ]
    },
    {
      "cell_type": "code",
      "source": [
        "#007\n",
        "print(\"naver;kakao;sk;samsung\")"
      ],
      "metadata": {
        "colab": {
          "base_uri": "https://localhost:8080/"
        },
        "id": "Lq2MNJaeQF0A",
        "outputId": "b9e75f7b-64d2-4ff3-b188-476b8f28b244"
      },
      "execution_count": 16,
      "outputs": [
        {
          "output_type": "stream",
          "name": "stdout",
          "text": [
            "naver;kakao;sk;samsung\n"
          ]
        }
      ]
    },
    {
      "cell_type": "code",
      "source": [
        "len('naver;kakao;sk;samsung')\n"
      ],
      "metadata": {
        "colab": {
          "base_uri": "https://localhost:8080/"
        },
        "id": "VDM_R0EUQyWM",
        "outputId": "6de8a9e3-4039-4d35-beb0-843b3f384ee7"
      },
      "execution_count": 18,
      "outputs": [
        {
          "output_type": "execute_result",
          "data": {
            "text/plain": [
              "22"
            ]
          },
          "metadata": {},
          "execution_count": 18
        }
      ]
    },
    {
      "cell_type": "code",
      "source": [
        "#007\n",
        "print(\"naver\",\"kakao\",\"sk\",\"samsung\",sep=\";\")"
      ],
      "metadata": {
        "colab": {
          "base_uri": "https://localhost:8080/"
        },
        "id": "5GIa7KfTQUjE",
        "outputId": "39851236-c448-496d-d4f9-483d8fd00182"
      },
      "execution_count": 14,
      "outputs": [
        {
          "output_type": "stream",
          "name": "stdout",
          "text": [
            "naver;kakao;sk;samsung\n"
          ]
        }
      ]
    },
    {
      "cell_type": "code",
      "source": [
        "len('naver;kakao;sk;samsung')"
      ],
      "metadata": {
        "colab": {
          "base_uri": "https://localhost:8080/"
        },
        "id": "FjRPzfMgQpuo",
        "outputId": "d4d747df-69f4-4f1d-cc24-e21a9a91a0cf"
      },
      "execution_count": 19,
      "outputs": [
        {
          "output_type": "execute_result",
          "data": {
            "text/plain": [
              "22"
            ]
          },
          "metadata": {},
          "execution_count": 19
        }
      ]
    },
    {
      "cell_type": "code",
      "source": [
        "#008\n",
        "print('naver','kakao','sk','samsung',sep=\"/\")"
      ],
      "metadata": {
        "colab": {
          "base_uri": "https://localhost:8080/"
        },
        "id": "BozivMSIRQV0",
        "outputId": "35469482-6d7e-46a9-d646-986e9ddc3119"
      },
      "execution_count": 20,
      "outputs": [
        {
          "output_type": "stream",
          "name": "stdout",
          "text": [
            "naver/kakao/sk/samsung\n"
          ]
        }
      ]
    },
    {
      "cell_type": "code",
      "source": [
        "#009\n",
        "print(\"first\");print('second')\n",
        "print(\"first\",end=\"\");print('second')\n",
        "print(\"i love\",end=\" so mach \");print(\"Minje\")"
      ],
      "metadata": {
        "colab": {
          "base_uri": "https://localhost:8080/"
        },
        "id": "_8RHc_KeRb8J",
        "outputId": "7aa95471-ff90-4d50-f88c-436ffff7a074"
      },
      "execution_count": 24,
      "outputs": [
        {
          "output_type": "stream",
          "name": "stdout",
          "text": [
            "first\n",
            "second\n",
            "firstsecond\n",
            "i love so mach Minje\n"
          ]
        }
      ]
    },
    {
      "cell_type": "code",
      "source": [
        "#010\n",
        "print(5/3)\n",
        "5/3"
      ],
      "metadata": {
        "colab": {
          "base_uri": "https://localhost:8080/"
        },
        "id": "91owUgQhRcbR",
        "outputId": "1abf63b0-ee80-4cb0-aa2b-c9a785a8932a"
      },
      "execution_count": 26,
      "outputs": [
        {
          "output_type": "stream",
          "name": "stdout",
          "text": [
            "1.6666666666666667\n"
          ]
        },
        {
          "output_type": "execute_result",
          "data": {
            "text/plain": [
              "1.6666666666666667"
            ]
          },
          "metadata": {},
          "execution_count": 26
        }
      ]
    },
    {
      "cell_type": "code",
      "source": [
        "#print 기본요소 \n",
        "#sep인자: sep인자는 구분자로 사용가능 ex) 'kakao','naver','samsung',sep=\"/\"\n",
        "#end인자: end인자는 뒤의 출력값과 이어 출력가능. 즉 줄 바꿈 없음\n",
        "#;(세미콜론)은 한줄에 여러 개의 명령작성 가능"
      ],
      "metadata": {
        "id": "XYv6vrSmQ5sv"
      },
      "execution_count": null,
      "outputs": []
    }
  ]
}